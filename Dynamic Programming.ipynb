{
 "cells": [
  {
   "cell_type": "code",
   "execution_count": 15,
   "metadata": {},
   "outputs": [],
   "source": [
    "# Catalan using bottomUp\n",
    "def catalan(n): \n",
    "    if (n == 0 or n == 1): \n",
    "        return 1\n",
    "    catalan = [0]*(n+1)\n",
    "    catalan[0] = 1\n",
    "    catalan[1] = 1\n",
    "    for i in range(2, n + 1): \n",
    "        catalan[i] = 0\n",
    "        for j in range(i):\n",
    "            catalan[i] += catalan[j] * catalan[i-j-1] \n",
    "    return catalan[n] "
   ]
  },
  {
   "cell_type": "code",
   "execution_count": 16,
   "metadata": {},
   "outputs": [
    {
     "data": {
      "text/plain": [
       "5"
      ]
     },
     "execution_count": 16,
     "metadata": {},
     "output_type": "execute_result"
    }
   ],
   "source": [
    "catalan(3)"
   ]
  },
  {
   "cell_type": "code",
   "execution_count": 28,
   "metadata": {},
   "outputs": [
    {
     "name": "stdout",
     "output_type": "stream",
     "text": [
      "100\n",
      "354224848179261915075\n"
     ]
    }
   ],
   "source": [
    "# fibonnace series using bottomup dp\n",
    "def fib(n):\n",
    "    rec = [0]*(n+2)\n",
    "    rec[0],rec[1] = 0,1\n",
    "    for i in range(2,n+1):\n",
    "        rec[i] = rec[i-1]+rec[i-2]\n",
    "    return rec[n]\n",
    "print(fib(int(input())))"
   ]
  },
  {
   "cell_type": "code",
   "execution_count": 31,
   "metadata": {},
   "outputs": [
    {
     "name": "stdout",
     "output_type": "stream",
     "text": [
      "100\n",
      "354224848179261915075\n"
     ]
    }
   ],
   "source": [
    "# fibonacci space optimized with space complexity as O(1)\n",
    "# in this we are keeping record of the last two fibonacci numbers in a and b and updating them after each iteration accordingly\n",
    "def fib(n):\n",
    "    if n == 0 or n == 1:\n",
    "        return n\n",
    "    a,b,c = 0,1,0\n",
    "    for _ in range(2,n+1):\n",
    "        c = a+b\n",
    "        a = b\n",
    "        b = c\n",
    "    return c\n",
    "print(fib(int(input())))"
   ]
  },
  {
   "cell_type": "code",
   "execution_count": 27,
   "metadata": {},
   "outputs": [
    {
     "name": "stdout",
     "output_type": "stream",
     "text": [
      "100\n",
      "354224848179261915075\n"
     ]
    }
   ],
   "source": [
    "# fibonacci series using topdown dp in this i will memorise the nth fibonacci number \n",
    "# so that if it fib(n) gets called again i will not calculate it and just return the stored value\n",
    "dp = {}\n",
    "dp[0] = 0\n",
    "dp[1] = 1\n",
    "def fib1(n):\n",
    "    if dp.get(n) != None:\n",
    "        return dp[n]\n",
    "    else:\n",
    "        dp[n] = fib1(n-1)+fib1(n-2)\n",
    "    return dp[n]\n",
    "print(fib1(int(input())))"
   ]
  },
  {
   "cell_type": "code",
   "execution_count": 101,
   "metadata": {
    "scrolled": false
   },
   "outputs": [
    {
     "name": "stdout",
     "output_type": "stream",
     "text": [
      "100\n"
     ]
    },
    {
     "data": {
      "text/plain": [
       "7"
      ]
     },
     "execution_count": 101,
     "metadata": {},
     "output_type": "execute_result"
    }
   ],
   "source": [
    "# minimum steps to one\n",
    "# general recursive solution without any dp\n",
    "# in this problem we have to find the minimum no. of steps required to make our number one when we can perform\n",
    "# any of the three operations if n%3==0 n/3 , if n%2==0 n/2, n-1 any no. of times\n",
    "mx = 100000000000000000000000000\n",
    "def count(n):\n",
    "    if n==1:\n",
    "        return 0\n",
    "    ans1,ans2,ans3 = mx,mx,mx\n",
    "    if n%3==0:\n",
    "        ans1 = count(n//3)\n",
    "    if n%2==0:\n",
    "        ans2 = count(n//2)\n",
    "    ans3 = count(n-1)\n",
    "    return 1+ min(ans1,ans2,ans3)\n",
    "count(int(input()))"
   ]
  },
  {
   "cell_type": "code",
   "execution_count": 102,
   "metadata": {},
   "outputs": [
    {
     "name": "stdout",
     "output_type": "stream",
     "text": [
      "1000\n"
     ]
    },
    {
     "data": {
      "text/plain": [
       "9"
      ]
     },
     "execution_count": 102,
     "metadata": {},
     "output_type": "execute_result"
    }
   ],
   "source": [
    "# minimum steps to one\n",
    "# with topdown dp\n",
    "def count(n,dp):\n",
    "    if dp[n] != -1:\n",
    "        return dp[n]\n",
    "    else:\n",
    "        ans1,ans2,ans3 = mx,mx,mx\n",
    "        if n%3==0:\n",
    "            ans1 = count(n//3)\n",
    "        if n%2==0:\n",
    "            ans2 = count(n//2)\n",
    "        ans3 = count(n-1)\n",
    "        dp[n] = 1+ min(ans1,ans2,ans3)\n",
    "    return dp[n]\n",
    "n = int(input())\n",
    "dp = [-1]*(n+1)\n",
    "dp[1],dp[2],dp[3] = 0,1,1\n",
    "print(count(n,dp))"
   ]
  },
  {
   "cell_type": "code",
   "execution_count": 34,
   "metadata": {},
   "outputs": [
    {
     "name": "stdout",
     "output_type": "stream",
     "text": [
      "987654\n",
      "13\n"
     ]
    }
   ],
   "source": [
    "mx = 100000000000000000000000000\n",
    "def count1(n):\n",
    "    dp = [-1]*(n+1)\n",
    "    dp[1],dp[2],dp[3] = 0,1,1\n",
    "    ans1,ans2,ans3 = mx,mx,mx\n",
    "    for i in range(4,n+1):\n",
    "        if i%3==0:\n",
    "            ans1 = dp[i//3]\n",
    "        if i%2==0:\n",
    "            ans2 = dp[i//2]\n",
    "        ans3 = dp[i-1]\n",
    "        dp[i] = min(ans1,ans2,ans3) + 1\n",
    "    return dp[n]\n",
    "print(count1(int(input())))"
   ]
  },
  {
   "cell_type": "code",
   "execution_count": 46,
   "metadata": {},
   "outputs": [
    {
     "name": "stdout",
     "output_type": "stream",
     "text": [
      "1234\n",
      "7\n"
     ]
    }
   ],
   "source": [
    "# minimmum coin change problem with topdown dp\n",
    "# in this problem we have to find the minimum no. of coins required for the change for a larger note\n",
    "# like for 15 rupee note we can have a change of one 10 rupee note and one 5 rupee note\n",
    "def countChange(n,coins,dp,t):\n",
    "    if n == 0:\n",
    "        return 0\n",
    "    if dp[n] != -1:\n",
    "        return dp[n]\n",
    "    else:\n",
    "        ans = 100000000000000000000000000\n",
    "        for i in range(t):\n",
    "            if n - coins[i] >= 0:\n",
    "                subproblem = countChange(n-coins[i],coins,dp)\n",
    "                ans = min(subproblem + 1,ans)\n",
    "            else:\n",
    "                break\n",
    "        dp[n] = ans\n",
    "    return dp[n]\n",
    "n = int(input())\n",
    "dp = [-1]*(n+1)\n",
    "coins = [1,2,5,10,20,50,100,200,500,2000]\n",
    "print(countChange(n,coins,dp,len(coins)))"
   ]
  },
  {
   "cell_type": "code",
   "execution_count": 50,
   "metadata": {},
   "outputs": [
    {
     "name": "stdout",
     "output_type": "stream",
     "text": [
      "1000000\n",
      "500\n"
     ]
    }
   ],
   "source": [
    "# minimum coin change problem with bottomup dp time complexity is O(t*n) where t is the no. of different type of coins\n",
    "# for both topdown and bottom up\n",
    "def countChange1(n,coins,t):\n",
    "    dp = [-1]*(n+1)\n",
    "    dp[0] = 0\n",
    "    for i in range(1,n+1):\n",
    "        # in cpp here will the INT_MAX as it's the max value and int get but in python there is no such value so we just store a vey large number\n",
    "        ans = 100000000000000000000000000\n",
    "        for j in range(t):\n",
    "            if i-coins[j]>=0:\n",
    "                subproblem = dp[i-coins[j]]\n",
    "                ans = min(subproblem + 1,ans)\n",
    "            else:\n",
    "                break\n",
    "        dp[i] = ans\n",
    "    return dp[n]\n",
    "coins = [1,2,5,10,20,50,100,200,500,2000]\n",
    "print(countChange1(int(input()),coins,len(coins)))"
   ]
  },
  {
   "cell_type": "code",
   "execution_count": 54,
   "metadata": {},
   "outputs": [
    {
     "name": "stdout",
     "output_type": "stream",
     "text": [
      "50\n"
     ]
    }
   ],
   "source": [
    "# in wine problem we have to find the max profit we can make by selling n bottles also the price of each bottle increases\n",
    "# every year after y years their prices become p[i]*y the catch is u can sell the bottles only from the extreme ends\n",
    "# recursive solution without dp\n",
    "wines = [2,3,5,1,4]\n",
    "def countProfit(wines,i,j,year):\n",
    "    if i>j:\n",
    "        return 0\n",
    "    ans1 = wines[i]*year + countProfit(wines,i+1,j,year+1)\n",
    "    ans2 = wines[j]*year + countProfit(wines,i,j-1,year+1)\n",
    "    return max(ans1,ans2)\n",
    "print(countProfit(wines,0,len(wines)-1,1))"
   ]
  },
  {
   "cell_type": "code",
   "execution_count": 67,
   "metadata": {},
   "outputs": [
    {
     "data": {
      "text/plain": [
       "50"
      ]
     },
     "execution_count": 67,
     "metadata": {},
     "output_type": "execute_result"
    }
   ],
   "source": [
    "# now we can use dp as the i,j pairs will be repeated in certain cases\n",
    "# i will store the tuple (i,j) in a dictionary and check if it is present then returning it\n",
    "wines = [2,3,5,1,4]\n",
    "dp = []\n",
    "meml = {}\n",
    "for _ in range(len(wines)):\n",
    "    dp.append(list([-1]*len(wines)))\n",
    "def countProfit1(wines,i,j,year,dp):\n",
    "    if i>j:\n",
    "        return 0\n",
    "    if dp[i][j] != -1:\n",
    "        return dp[i][j]\n",
    "    else:\n",
    "        ans1 = wines[i]*year + countProfit1(wines,i+1,j,year+1,dp)\n",
    "        ans2 = wines[j]*year + countProfit1(wines,i,j-1,year+1,dp)\n",
    "        dp[i][j] = max(ans1,ans2)\n",
    "    return dp[i][j]\n",
    "countProfit1(wines,0,len(wines)-1,1,dp)"
   ]
  },
  {
   "cell_type": "code",
   "execution_count": 65,
   "metadata": {},
   "outputs": [
    {
     "name": "stdout",
     "output_type": "stream",
     "text": [
      "[[-1, -1, -1, -1, -1], [-1, -1, 0, -1, -1], [-1, -1, -1, -1, -1], [-1, -1, -1, -1, -1], [-1, -1, -1, -1, -1]]\n"
     ]
    }
   ],
   "source": [
    "p = [2,3,5,1,4]\n",
    "dp = []\n",
    "for _ in range(len(p)):\n",
    "    dp.append(list([-1]*len(p)))\n",
    "dp[1][2] = 0\n",
    "print(dp)"
   ]
  },
  {
   "cell_type": "code",
   "execution_count": null,
   "metadata": {},
   "outputs": [],
   "source": []
  }
 ],
 "metadata": {
  "kernelspec": {
   "display_name": "Python 3",
   "language": "python",
   "name": "python3"
  },
  "language_info": {
   "codemirror_mode": {
    "name": "ipython",
    "version": 3
   },
   "file_extension": ".py",
   "mimetype": "text/x-python",
   "name": "python",
   "nbconvert_exporter": "python",
   "pygments_lexer": "ipython3",
   "version": "3.7.3"
  }
 },
 "nbformat": 4,
 "nbformat_minor": 2
}
