{
 "cells": [
  {
   "cell_type": "code",
   "execution_count": null,
   "metadata": {},
   "outputs": [],
   "source": [
    "# Catalan using bottomUp\n",
    "def catalan(n): \n",
    "    if (n == 0 or n == 1): \n",
    "        return 1\n",
    "    catalan = [0]*(n+1)\n",
    "    catalan[0] = 1\n",
    "    catalan[1] = 1\n",
    "    for i in range(2, n + 1): \n",
    "        catalan[i] = 0\n",
    "        for j in range(i):\n",
    "            catalan[i] += catalan[j] * catalan[i-j-1] \n",
    "    return catalan[n] "
   ]
  },
  {
   "cell_type": "code",
   "execution_count": null,
   "metadata": {},
   "outputs": [],
   "source": [
    "catalan(3)"
   ]
  },
  {
   "cell_type": "code",
   "execution_count": null,
   "metadata": {},
   "outputs": [],
   "source": [
    "# fibonnace series using bottomup dp\n",
    "def fib(n):\n",
    "    rec = [0]*(n+2)\n",
    "    rec[0],rec[1] = 0,1\n",
    "    for i in range(2,n+1):\n",
    "        rec[i] = rec[i-1]+rec[i-2]\n",
    "    return rec[n]\n",
    "print(fib(int(input())))"
   ]
  },
  {
   "cell_type": "code",
   "execution_count": null,
   "metadata": {},
   "outputs": [],
   "source": [
    "# fibonacci space optimized with space complexity as O(1)\n",
    "# in this we are keeping record of the last two fibonacci numbers in a and b and updating them after each iteration accordingly\n",
    "def fib(n):\n",
    "    if n == 0 or n == 1:\n",
    "        return n\n",
    "    a,b,c = 0,1,0\n",
    "    for _ in range(2,n+1):\n",
    "        c = a+b\n",
    "        a = b\n",
    "        b = c\n",
    "    return c\n",
    "print(fib(int(input())))"
   ]
  },
  {
   "cell_type": "code",
   "execution_count": null,
   "metadata": {},
   "outputs": [],
   "source": [
    "# fibonacci series using topdown dp in this i will memorise the nth fibonacci number \n",
    "# so that if it fib(n) gets called again i will not calculate it and just return the stored value\n",
    "dp = {}\n",
    "dp[0] = 0\n",
    "dp[1] = 1\n",
    "def fib1(n):\n",
    "    if dp.get(n) != None:\n",
    "        return dp[n]\n",
    "    else:\n",
    "        dp[n] = fib1(n-1)+fib1(n-2)\n",
    "    return dp[n]\n",
    "print(fib1(int(input())))"
   ]
  },
  {
   "cell_type": "code",
   "execution_count": null,
   "metadata": {
    "scrolled": false
   },
   "outputs": [],
   "source": [
    "# minimum steps to one\n",
    "# general recursive solution without any dp\n",
    "# in this problem we have to find the minimum no. of steps required to make our number one when we can perform\n",
    "# any of the three operations if n%3==0 n/3 , if n%2==0 n/2, n-1 any no. of times\n",
    "mx = 100000000000000000000000000\n",
    "def count(n):\n",
    "    if n==1:\n",
    "        return 0\n",
    "    ans1,ans2,ans3 = mx,mx,mx\n",
    "    if n%3==0:\n",
    "        ans1 = count(n//3)\n",
    "    if n%2==0:\n",
    "        ans2 = count(n//2)\n",
    "    ans3 = count(n-1)\n",
    "    return 1+ min(ans1,ans2,ans3)\n",
    "count(int(input()))"
   ]
  },
  {
   "cell_type": "code",
   "execution_count": null,
   "metadata": {},
   "outputs": [],
   "source": [
    "# minimum steps to one\n",
    "# with topdown dp\n",
    "def count(n,dp):\n",
    "    if dp[n] != -1:\n",
    "        return dp[n]\n",
    "    else:\n",
    "        ans1,ans2,ans3 = mx,mx,mx\n",
    "        if n%3==0:\n",
    "            ans1 = count(n//3)\n",
    "        if n%2==0:\n",
    "            ans2 = count(n//2)\n",
    "        ans3 = count(n-1)\n",
    "        dp[n] = 1+ min(ans1,ans2,ans3)\n",
    "    return dp[n]\n",
    "n = int(input())\n",
    "dp = [-1]*(n+1)\n",
    "dp[1],dp[2],dp[3] = 0,1,1\n",
    "print(count(n,dp))"
   ]
  },
  {
   "cell_type": "code",
   "execution_count": null,
   "metadata": {},
   "outputs": [],
   "source": [
    "# minimum steps to one using bottomup dp\n",
    "mx = 100000000000000000000000000\n",
    "def count1(n):\n",
    "    dp = [-1]*(n+1)\n",
    "    dp[1],dp[2],dp[3] = 0,1,1\n",
    "    ans1,ans2,ans3 = mx,mx,mx\n",
    "    for i in range(4,n+1):\n",
    "        if i%3==0:\n",
    "            ans1 = dp[i//3]\n",
    "        if i%2==0:\n",
    "            ans2 = dp[i//2]\n",
    "        ans3 = dp[i-1]\n",
    "        dp[i] = min(ans1,ans2,ans3) + 1\n",
    "    return dp[n]\n",
    "print(count1(int(input())))"
   ]
  },
  {
   "cell_type": "code",
   "execution_count": 4,
   "metadata": {},
   "outputs": [
    {
     "name": "stdout",
     "output_type": "stream",
     "text": [
      "10\n",
      "2\n"
     ]
    }
   ],
   "source": [
    "# minimmum coin change problem with topdown dp\n",
    "# in this problem we have to find the minimum no. of coins required for the change for a larger note\n",
    "# like for 15 rupee note we can have a change of one 10 rupee note and one 5 rupee note\n",
    "def countChange(n,coins,dp,t):\n",
    "    if n == 0:\n",
    "        return 0\n",
    "    if dp[n] != -1:\n",
    "        return dp[n]\n",
    "    else:\n",
    "        ans = 100000000000000000000000000\n",
    "        for i in range(t):\n",
    "            if n - coins[i] >= 0:\n",
    "                subproblem = countChange(n-coins[i],coins,dp,t)\n",
    "                ans = min(subproblem + 1,ans)\n",
    "            else:\n",
    "                break\n",
    "        dp[n] = ans\n",
    "    return dp[n]\n",
    "n = int(input())\n",
    "dp = [-1]*(n+1)\n",
    "# coins = [1,2,5,10,20,50,100,200,500,2000]\n",
    "coins = [2,5,3,6]\n",
    "print(countChange(n,coins,dp,len(coins)))"
   ]
  },
  {
   "cell_type": "code",
   "execution_count": null,
   "metadata": {},
   "outputs": [],
   "source": [
    "# minimum coin change problem with bottomup dp time complexity is O(t*n) where t is the no. of different type of coins\n",
    "# for both topdown and bottom up\n",
    "def countChange1(n,coins,t):\n",
    "    dp = [-1]*(n+1)\n",
    "    dp[0] = 0\n",
    "    for i in range(1,n+1):\n",
    "        # in cpp here will the INT_MAX as it's the max value and int get but in python there is no such value so we just store a vey large number\n",
    "        ans = 100000000000000000000000000\n",
    "        for j in range(t):\n",
    "            if i-coins[j]>=0:\n",
    "                subproblem = dp[i-coins[j]]\n",
    "                ans = min(subproblem + 1,ans)\n",
    "            else:\n",
    "                break\n",
    "        dp[i] = ans\n",
    "    return dp[n]\n",
    "coins = [1,2,5,10,20,50,100,200,500,2000]\n",
    "print(countChange1(int(input()),coins,len(coins)))"
   ]
  },
  {
   "cell_type": "code",
   "execution_count": null,
   "metadata": {},
   "outputs": [],
   "source": [
    "# in wine problem we have to find the max profit we can make by selling n bottles also the price of each bottle increases\n",
    "# every year after y years their prices become p[i]*y the catch is u can sell the bottles only from the extreme ends\n",
    "# recursive solution without dp\n",
    "wines = [2,3,5,1,4]\n",
    "def countProfit(wines,i,j,year):\n",
    "    if i>j:\n",
    "        return 0\n",
    "    ans1 = wines[i]*year + countProfit(wines,i+1,j,year+1)\n",
    "    ans2 = wines[j]*year + countProfit(wines,i,j-1,year+1)\n",
    "    return max(ans1,ans2)\n",
    "print(countProfit(wines,0,len(wines)-1,1))"
   ]
  },
  {
   "cell_type": "code",
   "execution_count": null,
   "metadata": {},
   "outputs": [],
   "source": [
    "# now we can use dp as the i,j pairs will be repeated in certain cases\n",
    "# i will store the tuple (i,j) in a dictionary and check if it is present then returning it\n",
    "wines = [2,3,5,1,4]\n",
    "dp = []\n",
    "meml = {}\n",
    "for _ in range(len(wines)):\n",
    "    dp.append(list([-1]*len(wines)))\n",
    "def countProfit1(wines,i,j,year,dp):\n",
    "    if i>j:\n",
    "        return 0\n",
    "    if dp[i][j] != -1:\n",
    "        return dp[i][j]\n",
    "    else:\n",
    "        ans1 = wines[i]*year + countProfit1(wines,i+1,j,year+1,dp)\n",
    "        ans2 = wines[j]*year + countProfit1(wines,i,j-1,year+1,dp)\n",
    "        dp[i][j] = max(ans1,ans2)\n",
    "    return dp[i][j]\n",
    "countProfit1(wines,0,len(wines)-1,1,dp)"
   ]
  },
  {
   "cell_type": "code",
   "execution_count": null,
   "metadata": {},
   "outputs": [],
   "source": [
    "p = [2,3,5,1,4]\n",
    "dp = []\n",
    "for _ in range(len(p)):\n",
    "    dp.append(list([-1]*len(p)))\n",
    "dp[1][2] = 0\n",
    "print(dp)"
   ]
  },
  {
   "cell_type": "code",
   "execution_count": null,
   "metadata": {},
   "outputs": [],
   "source": [
    "#to find the maximum subarray sum kadane's algorithm is used\n",
    "# a is the array of integers\n",
    "def maxSum(a):\n",
    "    # here we have taken dp of constant length but we can also take it length as n\n",
    "    dp = [0]*1000\n",
    "    dp[0] = 0\n",
    "    if a[0]>0:\n",
    "        dp[0] = a[0]\n",
    "    max_sum_so_far = dp[0]\n",
    "    for i in range(1,n):\n",
    "        dp[i] = dp[i-1] + a[i]\n",
    "        if dp[i] < 0:\n",
    "            dp[i] = 0\n",
    "        max_sum_so_far = max(dp[i],max_sum_so_far)\n",
    "    return max_sum_so_far\n",
    "def maxSumOptimised(a):\n",
    "    mxSum = 0\n",
    "    if a[0] > 0:\n",
    "        mxSum = a[0]\n",
    "    for i in range(1,n):\n",
    "        current_sum = mxSum + a[i]\n",
    "        if current_sum < 0:\n",
    "            current_sum = 0\n",
    "        mxSum = max(current_sum,mxSum)\n",
    "    return mxSum"
   ]
  },
  {
   "cell_type": "code",
   "execution_count": 6,
   "metadata": {},
   "outputs": [
    {
     "name": "stdout",
     "output_type": "stream",
     "text": [
      "6 3\n",
      "24\n"
     ]
    }
   ],
   "source": [
    "#Ladder Problem in this we have to find the total number of to climb up to the top of \n",
    "# the ladder containing n steps provided that we can jump at max k steps at each step\n",
    "# using topdown dp the time complexity for this problem will be O(n*k) with O(n) space complexity\n",
    "def ladder_topdown(n,k,dp):\n",
    "    if n == 0:\n",
    "        return 1\n",
    "    if dp[n] != -1:\n",
    "        return dp[n]\n",
    "    ans = 0\n",
    "    for i in range(1,k+1):\n",
    "        if n-i >= 0:\n",
    "            ans += ladder_topdown(n-i,k,dp)\n",
    "    dp[n] = ans\n",
    "    return dp[n]\n",
    "\n",
    "# ladder problem using bottomup dp\n",
    "def ladder_bottomup(n,k):\n",
    "    dp = [0]*(n+1)\n",
    "    dp[0] = 1\n",
    "    for i in range(1,n+1):\n",
    "        for j in range(1,k+1):\n",
    "            if i-j>=0:\n",
    "                dp[i] += dp[i-j]\n",
    "    return dp[n]\n",
    "# ladder dp optimised can be found seeing that when we are looping over the previous k elements for any i\n",
    "# we are essentially calculating the sum which we have already calculated for n-1 again\n",
    "# but when we move to ith element in array we do not need the value of i-kth element \n",
    "# so the recurrence relation modifies as dp[n] = 2*dp[n-1] - dp[n-k-1]\n",
    "# but for the first k elements of the array dp[n] = 2*dp[n-1] as in that case n-k becomes negative\n",
    "# so in another way they also serve as initial conditions for the recursive case\n",
    "# you can imagine this by a window of k length sliding over the entire array \n",
    "def ladder_optimised(n,k):\n",
    "    dp = [0]*(n+1)\n",
    "    dp[0],dp[1] = 1,1\n",
    "    for i in range(2,k+1):\n",
    "        dp[i] = 2*dp[i-1]\n",
    "    for j in range(k+1,n+1):\n",
    "        dp[j] = 2*dp[j-1] - dp[j-k-1]\n",
    "    return dp[n]\n",
    "n,k = map(int,input().split())\n",
    "dp = [-1]*(n+1)\n",
    "print(ladder_optimised(n,k))"
   ]
  },
  {
   "cell_type": "code",
   "execution_count": 6,
   "metadata": {},
   "outputs": [
    {
     "name": "stdout",
     "output_type": "stream",
     "text": [
      "5 2 1 3\n",
      "4\n"
     ]
    }
   ],
   "source": [
    "# cell mitiosis in this problem we have to find minimum cost to generate n cells from 1 cell\n",
    "# there are three types of operations possible 2*n,n+1,n-1 i.e he can double the number of cell,or increase by one or decrease by one\n",
    "def cell_mitosis(n,x,y,z):\n",
    "    if n==1:\n",
    "        return 0\n",
    "    if n == 0:\n",
    "        return 0\n",
    "    if n%2 == 0:\n",
    "        return min(cell_mitosis(n//2,x,y,z) + x,cell_mitosis(n-1,x,y,z) + y)\n",
    "    else:\n",
    "        return min(cell_mitosis(n-1,x,y,z)+y,cell_mitosis((n+1)//2,x,y,z) + x + z)\n",
    "n,x,y,z = map(int,input().split())\n",
    "print(cell_mitosis(n,x,y,z))"
   ]
  },
  {
   "cell_type": "code",
   "execution_count": 16,
   "metadata": {},
   "outputs": [
    {
     "name": "stdout",
     "output_type": "stream",
     "text": [
      "10 4 5 3\n",
      "17\n"
     ]
    }
   ],
   "source": [
    "def cell_mitosis_bottomup(n,x,y,z):\n",
    "    dp = [0]*(n+1)\n",
    "    dp[0],dp[1] = 0,0\n",
    "    for i in range(2,n+1):\n",
    "        if i%2==0:\n",
    "            dp[i] = min(dp[i//2]+x,dp[i-1]+y)\n",
    "        else:\n",
    "            dp[i] = min(dp[i-1]+y,dp[(i+1)//2]+x+z)\n",
    "    return dp[n]\n",
    "n,x,y,z = map(int,input().split())\n",
    "print(cell_mitosis_bottomup(n,x,y,z))"
   ]
  },
  {
   "cell_type": "code",
   "execution_count": 6,
   "metadata": {},
   "outputs": [
    {
     "name": "stdout",
     "output_type": "stream",
     "text": [
      "9223372036854775807\n"
     ]
    }
   ],
   "source": [
    "import sys\n",
    "print(sys.maxsize)"
   ]
  },
  {
   "cell_type": "code",
   "execution_count": 1,
   "metadata": {},
   "outputs": [
    {
     "name": "stdout",
     "output_type": "stream",
     "text": [
      "5\n",
      "2 1 3\n",
      "5\n"
     ]
    }
   ],
   "source": [
    "import sys\n",
    "def f(n,x,y,z,sm,isv):\n",
    "    isv[sm] = True\n",
    "    if sm == n:\n",
    "        return 0\n",
    "    if sm>n:\n",
    "        return (sm-n)*z-1\n",
    "    if sm<1:\n",
    "        return sys.maxsize\n",
    "    ans1=ans2=ans3=sys.maxsize\n",
    "    if isv.get(sm*2) == None:\n",
    "        ans1 = x+f(n,x,y,z,sm*2,isv)\n",
    "    if isv.get(sm+1)==None:\n",
    "        ans2 = y+f(n,x,y,z,sm+1,isv)\n",
    "    if isv.get(sm-1)==None:\n",
    "        ans3 = z+f(n,x,y,z,sm-1,isv)\n",
    "    return min(ans1,ans2,ans3)\n",
    "n = int(input())\n",
    "x,y,z = map(int,input().split())\n",
    "print(f(n,x,y,z,1,{}))"
   ]
  },
  {
   "cell_type": "code",
   "execution_count": 5,
   "metadata": {},
   "outputs": [
    {
     "name": "stdout",
     "output_type": "stream",
     "text": [
      "2 2\n",
      "1 2\n",
      "1 2\n",
      "0\n"
     ]
    }
   ],
   "source": [
    "mxsize = 10000000000099\n",
    "def f(i,j,n,m,a,b,dp):\n",
    "    if i==n:\n",
    "        return 0\n",
    "    if j==m:\n",
    "        return mxsize\n",
    "    if dp[i][j] != -1:\n",
    "        return dp[i][j]\n",
    "    ans1 = abs(a[i]-b[j]) + f(i+1,j+1,n,m,a,b,dp)\n",
    "    ans2 = f(i,j+1,n,m,a,b,dp)\n",
    "    dp[i][j] = min(ans1,ans2)\n",
    "    return dp[i][j]\n",
    "def main():\n",
    "    n,m = map(int,input().split())\n",
    "    a = sorted(map(int,input().split()))\n",
    "    b = sorted(map(int,input().split()))\n",
    "    dp = [list([-1]*5005) for i in range(5005)]\n",
    "    print(f(0,0,n,m,a,b,dp))\n",
    "main()"
   ]
  },
  {
   "cell_type": "markdown",
   "metadata": {},
   "source": [
    "<img src=\"optimal_game_strategy.png\">"
   ]
  },
  {
   "cell_type": "code",
   "execution_count": 4,
   "metadata": {},
   "outputs": [
    {
     "name": "stdout",
     "output_type": "stream",
     "text": [
      "17\n"
     ]
    }
   ],
   "source": [
    "def f(i,j,a,dp):\n",
    "    if i >j:\n",
    "        return 0\n",
    "    st = str(i) + \" \" + str(j)\n",
    "    if dp.get(st) != None:\n",
    "        return dp[st]\n",
    "    dp[st] = max(a[i] + min(f(i+2,j,a,dp),f(i+1,j-1,a,dp)),a[j] + min(f(i,j-2,a,dp),f(i+1,j-1,a,dp)))\n",
    "    return dp[st]\n",
    "a = [7,3,2,5,8,4]\n",
    "print(f(0,len(a)-1,a,{}))"
   ]
  },
  {
   "cell_type": "code",
   "execution_count": 17,
   "metadata": {},
   "outputs": [
    {
     "name": "stdout",
     "output_type": "stream",
     "text": [
      "['a', 'b', 'ab', 'c', 'ac', 'bc', 'abc']\n"
     ]
    }
   ],
   "source": [
    "def makeSubSeq(n,s):\n",
    "    nums = []\n",
    "    subSeq = []\n",
    "    for i in range(1,2**n):\n",
    "        nums.append(i)\n",
    "    for j in nums:\n",
    "        ct = 0\n",
    "        st = \"\"\n",
    "        while j!=0:\n",
    "            if j&1 != 0:\n",
    "                st += str(s[ct])\n",
    "            j=j>>1\n",
    "            ct += 1\n",
    "        subSeq.append(st)\n",
    "    return subSeq\n",
    "print(makeSubSeq(3,\"abc\"))"
   ]
  },
  {
   "cell_type": "code",
   "execution_count": null,
   "metadata": {},
   "outputs": [],
   "source": [
    "# travelling salesman problem uisng bitmasking\n",
    "n = 4\n",
    "dist = [[0,20,42,25],[20,0,30,34],[42,30,0,10],[25,34,10,,0]]\n",
    "# means n bits 1<<4 - 1 is 1111\n",
    "visited_all = (1<<n) - 1\n",
    "def tsp(mask,pos):\n",
    "    if mask == visited_all:\n",
    "        return dis[pos][0]\n",
    "    for city in range(n):\n",
    "        if mask&(1<<city) == 0:\n",
    "            ans = dist[pos][city] + tsp()\n",
    "    "
   ]
  },
  {
   "cell_type": "code",
   "execution_count": null,
   "metadata": {},
   "outputs": [],
   "source": [
    "# 0-1 knapsack problem\n",
    "import sys\n",
    "def f(n,i,s,vals,wt,dp,w):\n",
    "    if i > n-1 or w == s:\n",
    "        return 0\n",
    "    if dp[i][w] != -1:\n",
    "        return dp[i][w]\n",
    "    if w+wt[i]<= s:\n",
    "        dp[i][w]= max(f(n,i+1,s,vals,wt,dp,w+wt[i])+vals[i],f(n,i+1,s,vals,wt,dp,w))\n",
    "    else:\n",
    "        dp[i][w] = f(n,i+1,s,vals,wt,dp,w)\n",
    "    return dp[i][w]\n",
    "def main():\n",
    "    for _ in range(int(input())):\n",
    "        n=int(input())\n",
    "        s= int(input())\n",
    "        v=list(map(int,input().split()))\n",
    "        wt=list(map(int,input().split()))\n",
    "        dp = list([-1]*(s+1) for _ in range(n+1))\n",
    "        print(f(n,0,s,v,wt,dp,0))\n",
    "main()"
   ]
  },
  {
   "cell_type": "code",
   "execution_count": null,
   "metadata": {},
   "outputs": [],
   "source": []
  }
 ],
 "metadata": {
  "kernelspec": {
   "display_name": "Python 3",
   "language": "python",
   "name": "python3"
  },
  "language_info": {
   "codemirror_mode": {
    "name": "ipython",
    "version": 3
   },
   "file_extension": ".py",
   "mimetype": "text/x-python",
   "name": "python",
   "nbconvert_exporter": "python",
   "pygments_lexer": "ipython3",
   "version": "3.7.3"
  }
 },
 "nbformat": 4,
 "nbformat_minor": 2
}
