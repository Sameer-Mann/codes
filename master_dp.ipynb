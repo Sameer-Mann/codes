{
 "cells": [
  {
   "cell_type": "code",
   "execution_count": null,
   "metadata": {},
   "outputs": [],
   "source": [
    "ip1 = '''a=list(map(int,input().split()))'''\n",
    "ip = '''n=int(input())'''\n",
    "ip2 = '''map(int,input().split())'''\n",
    "rep = '''for i in range(4):print(i)'''"
   ]
  },
  {
   "cell_type": "code",
   "execution_count": 7,
   "metadata": {},
   "outputs": [
    {
     "data": {
      "text/plain": [
       "'0b100000'"
      ]
     },
     "execution_count": 7,
     "metadata": {},
     "output_type": "execute_result"
    }
   ],
   "source": [
    "bin(2**5)"
   ]
  },
  {
   "cell_type": "markdown",
   "metadata": {},
   "source": [
    "College starts at eight in the morning! But Yash Jeswani is awake way before he is supposed to be. It's a beautiful day for him until he realizes Yash Agarwal took his shoes and had been away while Jeswani was sleeping. Jeswani is furious with such irresponsible behaviour. Now, what to do then? So he decides to go to \"the Bali\"'s shop to buy new shoes. Now Bali shows him a N pairs of shoes. But these shoes aren't some normal shoes! These are \"the Bali\" shoes. The size of left shoe will be always not equal to the size of the right shoe! Being such close friends Bali agrees to gift him a pair of shoes if he answers his question. Bali asks what are the total number of ways to select one shoe from each of the N pairs such that the summation of all the selected shoe sizes is odd? Then do help Jeswani to get free shoes. Since the answer can be too large print it modulo 10^9+7."
   ]
  },
  {
   "cell_type": "code",
   "execution_count": null,
   "metadata": {},
   "outputs": [],
   "source": [
    "def ip():\n",
    "    n=int(input())\n",
    "    pairs=[]\n",
    "    for i in range(n):\n",
    "        l,r=map(int,input().split())\n",
    "        pairs.append(tuple((l,r)))\n",
    "    dp=[]\n",
    "    ll=[0]*n\n",
    "    dp.append(list(ll))\n",
    "    dp.append(list(ll))\n",
    "    if pairs[0][0]%2==0 and pairs[0][1]%2==0:\n",
    "        dp[0][0]=2\n",
    "    elif pairs[0][0]%2!=0 and pairs[0][1]%2!=0:\n",
    "        dp[1][0]=2\n",
    "    else:\n",
    "        dp[0][0]=1\n",
    "        dp[1][0]=1\n",
    "    for i in range(1,n):\n",
    "        if pairs[i][0]%2==0 and pairs[i][1]%2==0:\n",
    "            dp[0][i]=(dp[0][i-1]*2)%((10**9)+7)\n",
    "            dp[1][i]=(dp[1][i-1]*2)%((10**9)+7)\n",
    "            \n",
    "        if pairs[i][0]%2!=0 and pairs[i][1]%2!=0:\n",
    "            dp[0][i]=(dp[1][i-1]*2)%((10**9)+7)\n",
    "            dp[1][i]=(dp[0][i-1]*2)%((10**9)+7)\n",
    "           \n",
    "        else:\n",
    "            dp[0][i]=(dp[0][i-1]+dp[1][i-1])%((10**9)+7)\n",
    "            dp[1][i]=(dp[1][i-1]+dp[0][i-1])%((10**9)+7)\n",
    "            \n",
    "    print(dp[1][-1]%((10**9)+7))\n",
    "ip()"
   ]
  },
  {
   "cell_type": "markdown",
   "metadata": {},
   "source": [
    "Calvin's Game:\n",
    "Calvin wakes up early one morning and finds that all his friends in the hostel are asleep. To amuse himself, he decides to play the following game : he draws a sequence of N squares on the ground, numbered 1 to N, and writes an integer in each square. He starts at square k (1 ≤ k ≤ N). The game consists of one forward phase followed by one backward phase.\n",
    "\n",
    ":- In the forward phase, Calvin makes zero or more moves of the following type : if his current position is p, he can jump to p+1 or p+2 as long as he stays within the N squares.\n",
    "\n",
    ":- In the backward phase, Calvin makes zero or more moves of the following type : if his current position is p, he can jump to p−1 or p−2 as long as he stays within the N squares.\n",
    "\n",
    "He plays such that he finally ends up at square 1, and then he stops. He starts with a score of 0, and each time he jumps from square i to square j, he adds the integer written in square j to his score. Find the maximum score Calvin can obtain by playing this game. Recall that Calvin must start at square k and end at square 1. The integer on the square where he starts is not included in his score.\n",
    "\n",
    "For example, suppose N = 5 and the numbers in squares are 5, 3, −2, 1, 1. If k = 2, Calvin starts on the second square. He can make a forward move to square 4, another to square 5, a backward move to square 4, another to square 2, and another to square 1. His total score is 1+1+1+3+5 = 11. You can check that this is the maximum score possible."
   ]
  },
  {
   "cell_type": "code",
   "execution_count": null,
   "metadata": {},
   "outputs": [],
   "source": [
    "def m():\n",
    "    n,k = map(int,input().split())\n",
    "    a = list(map(int,input().split()))\n",
    "    # dp = [[-1]*(n+1),[-1]*(n+1)]\n",
    "    dp,dp1 = [0]*n,[0]*n\n",
    "    dp1[0] = a[0]\n",
    "    dp1[1] = a[0]+a[1]\n",
    "    for i in range(k,n):\n",
    "        dp[i] = a[i] + max(dp[i-1],dp[i-2])\n",
    "    for i in range(2,n):\n",
    "        dp1[i] = a[i]+max(dp1[i-1],dp1[i-2])\n",
    "    ans= max([dp[i]+dp1[i]-a[i] for i in range(n)])\n",
    "    # print(f(a,k-1,1,dp,n))\n",
    "    print(ans)\n",
    "m()"
   ]
  },
  {
   "cell_type": "code",
   "execution_count": null,
   "metadata": {},
   "outputs": [],
   "source": [
    "def m():\n",
    "    n = int(input())\n",
    "    a = list(map(int,input().split()))\n",
    "    if n == 1 or n == 2:\n",
    "        print(sum(a))\n",
    "    else:\n",
    "        dp = [0]*n\n",
    "        dp[0] = a[0]\n",
    "        dp[1] = a[0]+a[1]\n",
    "        dp1 = [0]*n\n",
    "        dp1[1] = a[0]\n",
    "        for i in range(2,n):\n",
    "            dp[i] = max(dp1[i - 2]+a[i]+a[i-1],a[i]+dp1[i-1])\n",
    "            dp1[i] = max(dp1[i-1],dp[i-1])\n",
    "    print(dp[-1])\n",
    "m()"
   ]
  },
  {
   "cell_type": "code",
   "execution_count": null,
   "metadata": {},
   "outputs": [],
   "source": [
    "exec(rep)"
   ]
  },
  {
   "cell_type": "code",
   "execution_count": null,
   "metadata": {},
   "outputs": [],
   "source": []
  },
  {
   "cell_type": "code",
   "execution_count": null,
   "metadata": {},
   "outputs": [],
   "source": []
  },
  {
   "cell_type": "markdown",
   "metadata": {},
   "source": [
    "Subset Sum Easy\n",
    "Mike is a very passionate about sets. Lately, he is busy solving one of the problems on sets. He has to find whether if the sum of any of the non-empty subsets of the set A is zero.\n",
    "\n",
    "Input Format\n",
    "The first line contains an integer T, which is the total number of test cases.\n",
    "T test cases follow.\n",
    "Each test case consists of two lines.\n",
    "The first line consists of a single integer N, which is the number of elements present in the set A.\n",
    "The second line contains N space separated integers denoting the elements of the set A."
   ]
  },
  {
   "cell_type": "code",
   "execution_count": null,
   "metadata": {},
   "outputs": [],
   "source": [
    "def f(a,s,i,inc):\n",
    "    if s == 0 and inc:\n",
    "        return True\n",
    "    if i == len(a):\n",
    "        return False\n",
    "    return f(a,s+a[i],i+1,True) or f(a,s,i+1,False)\n",
    "for _ in range(int(input())):\n",
    "    n = int(input())\n",
    "#     a = list(map(int,input().split()))\n",
    "    exec(ip)\n",
    "    if f(a,0,0,False):\n",
    "        print('Yes')\n",
    "    else:\n",
    "        print(\"No\")"
   ]
  },
  {
   "cell_type": "markdown",
   "metadata": {},
   "source": [
    "Class Photograph\n",
    "There are \"b\" boys and \"g\" girls in a class. Today is the day of their class photograph. The photographer loves having different arrangements for a photograph. He decides that the photo would look awesome if there are atmost n1 adjacent boys and atmost adjacent n2 girls lined up together. if there are more than n1 boys, or more than n2 girls standing together(successively one after another), then the photograph will not look awesome.\n",
    "\n",
    "So, find the number of ways in which the photographer can arrange b boys and g girls so that the photograph looks awesome.\n",
    "Input Format\n",
    "One line containing four integers - b , g , n1 , n2 ."
   ]
  },
  {
   "cell_type": "code",
   "execution_count": null,
   "metadata": {},
   "outputs": [],
   "source": [
    "import sys\n",
    "mod = 10**9+7\n",
    "sys.setrecursionlimit(10**9) \n",
    "def photo(b,g,n,m,boys,dp):\n",
    "    st = str(b)+\" \"+str(g)+\" \"+str(boys)\n",
    "    if b == 0:\n",
    "        if g>m:\n",
    "            return 0\n",
    "        return 1\n",
    "    if g == 0:\n",
    "        if b > n:\n",
    "            return 0\n",
    "        return 1\n",
    "    if dp.get(st) != None:\n",
    "        return dp[st]\n",
    "    ans = 0\n",
    "    if boys:\n",
    "        for i in range(1,n+1):\n",
    "            if b-i>=0:\n",
    "                ans += photo(b-i,g,n,m,False,dp)\n",
    "            else:\n",
    "                break\n",
    "    else:\n",
    "        for j in range(1,m+1):\n",
    "            if g-j>=0:\n",
    "                ans += photo(b,g-j,n,m,True,dp)\n",
    "            else:\n",
    "                break\n",
    "    ans %= mod\n",
    "    dp[st] = ans\n",
    "    return ans\n",
    "def photo2(b,g,n,m):\n",
    "    dp = [ [ [0,0] for _ in range(g+1)] for _ in range(b+1)]\n",
    "    dp[1][1][1] = dp[1][1][0] = 1\n",
    "    for i in range(1,b+1):\n",
    "        for j in range(1,g+1):\n",
    "            if i == 1 and j == 1:\n",
    "                continue\n",
    "            for k in range(1,n+1):\n",
    "                if i-k>=0:\n",
    "                    dp[i][j][0] += (dp[i-k][j][1])%mod\n",
    "                if j-k>=0:\n",
    "                    dp[i][j][0] += (dp[i][j-k][1])%mod\n",
    "                else:\n",
    "                    break\n",
    "            for k in range(1,m+1):\n",
    "                if j-k>=0:\n",
    "                    dp[i][j][1] += (dp[i][j-k][0])%mod\n",
    "                if i-k>=0:\n",
    "                    dp[i][j][1] += (dp[i-k][j][0])%mod\n",
    "                else:\n",
    "                    break\n",
    "#     print(dp)\n",
    "    return( (dp[b][g][0] + dp[b][g][1]) % mod)\n",
    "b,g,n,m = map(int,input().split())\n",
    "dp = {}\n",
    "ans = photo(b,g,n,m,True,dp)\n",
    "print(ans)\n",
    "dp = {}\n",
    "ans += photo(b,g,n,m,False,dp)\n",
    "ans %= mod\n",
    "print(ans,photo2(b,g,n,m))"
   ]
  },
  {
   "cell_type": "markdown",
   "metadata": {},
   "source": [
    "Pairs on a Line\\n\n",
    "You are given a linear equation y = mx + c, and an array A of n elements. Count the number of ordered pairs (i,j) where i!=j, such that point (Ai, Aj) satisfies the given linear equation.\n",
    "\n",
    "Input Format\n",
    "First line contains 3 integers, n, m and c. Next line contains n integers, denoting the elements of array A."
   ]
  },
  {
   "cell_type": "code",
   "execution_count": null,
   "metadata": {},
   "outputs": [],
   "source": [
    "n,m,c = map(int,input().split())\n",
    "a=list(map(int,input().split()))\n",
    "d = {}\n",
    "for i in a:\n",
    "    if d.get(i) == None:\n",
    "        d[i] = 1\n",
    "    else:\n",
    "        d[i] += 1\n",
    "ans = 0\n",
    "for i in a:\n",
    "    y = m*i + c\n",
    "    if d.get(y) != None:\n",
    "        ans += d[y]\n",
    "print(ans)"
   ]
  },
  {
   "cell_type": "markdown",
   "metadata": {},
   "source": [
    "Vivek love array\n",
    "Initially, there is an array, A , containing 'N' integers.\n",
    "\n",
    "In each move, Vivek must divide the array into  two non-empty contiguous parts such that the sum of the elements in the left part is equal  to the sum of the elements in the right part. If Vivek can make such a move, he gets '1' point; otherwise, the game ends.\n",
    "\n",
    "After each successful move, Vivek have to discards either the left part or the right part and continues playing by using \n",
    "Initially, there is an array, A , containing 'N' integers.\n",
    "\n",
    "In each move, Vivek must divide the array into  two non-empty contiguous parts such that the sum of the elements in the left part is equal  to the sum of the elements in the right part. If Vivek can make such a move, he gets '1' point; otherwise, the game ends.\n",
    "\n",
    "After each successful move, Vivek have to discards either the left part or the right part and continues playing by using \n",
    "First line of input contains an integer T denoting number of test cases. Each further Test case contains first line an integer 'N' , the size of array 'A'. After that 'N' space separated integers denoting the elements of array."
   ]
  },
  {
   "cell_type": "code",
   "execution_count": null,
   "metadata": {},
   "outputs": [],
   "source": [
    "def f(a,b,st,end):\n",
    "    if st == end:\n",
    "        return 0\n",
    "    ans = 0\n",
    "    for i in range(st+1,end+1):\n",
    "        ls= b[i]-b[st]+a[st]\n",
    "        rs = b[end] - b[i]\n",
    "        if ls == rs:\n",
    "            ans += 1 + max(f(a,b,st,i),f(a,b,i,end))\n",
    "    return ans\n",
    "for _ in range(int(input())):\n",
    "    n = int(input())\n",
    "    a = list(map(int,input().split()))\n",
    "    b = []\n",
    "    c= 0\n",
    "    for i in a:\n",
    "        c+=i\n",
    "        b.append(c)\n",
    "    print(b)\n",
    "    for i in range(1,n):\n",
    "        ls= b[i]-b[0]+a[0]\n",
    "        rs = b[n-1] - b[i]\n",
    "        if ls == rs:\n",
    "            print('hi')\n",
    "    print(f(a,b,0,n-1))"
   ]
  },
  {
   "cell_type": "code",
   "execution_count": null,
   "metadata": {},
   "outputs": [],
   "source": []
  },
  {
   "cell_type": "code",
   "execution_count": null,
   "metadata": {},
   "outputs": [],
   "source": [
    "n = int(input())\n",
    "a1 = list(map(int,input().split()))\n",
    "d = {}\n",
    "t = a1[0]\n",
    "a = [t]\n",
    "for i in range(1,n):\n",
    "    if i == t:\n",
    "        continue\n",
    "    else:\n",
    "        a.append()\n",
    "ans = float('inf')\n",
    "for v in sorted(d.keys()):\n",
    "    top = a[0]\n",
    "    c = 0\n",
    "    for i in range(1,n):\n",
    "        if a[i] != top:\n",
    "            if top != v:\n",
    "                c += 1\n",
    "            top = a[i]\n",
    "    if top != v:\n",
    "        c+=1\n",
    "    ans = min(ans,c)\n",
    "print(ans)"
   ]
  },
  {
   "cell_type": "markdown",
   "metadata": {},
   "source": [
    "Alice and Bob\n",
    "\n",
    "Alice is playing a weird game. Given a sequence 'a' consisting of n integers. The player can make several steps. In a single step he can choose an element of the sequence (let's denote it ak) and delete it, at that all elements equal to ak + 1 and ak - 1 also must be deleted from the sequence. That step brings ak points to the player.\n",
    "Help Alice to get maximum points.(Use Fast Input Output)"
   ]
  },
  {
   "cell_type": "markdown",
   "metadata": {},
   "source": [
    "Apaar likes to paint his heart out. He made a famous painting software letspaint. The working screen of letspaint is square-shaped consisting of n rows and n columns of square cells. The rows are numbered from 1 to n, from top to bottom, and the columns are numbered from 1 to n, from left to right. The position of a cell at row r and column c is represented as (r,c). There are only two colors for the cells in letspaint — black and white.\n",
    "\n",
    "There is a tool named eraser in letspaint. The eraser has an integer size k (1≤k≤n). To use the eraser, Apaar needs to click on a cell (i,j) where 1≤i,j≤n−k+1. When a cell (i,j) is clicked, all of the cells (i′,j′) where i≤i′≤i+k−1 and j≤j′≤j+k−1 become white. In other words, a square with side equal to k cells and top left corner at (i,j) is colored white.\n",
    "\n",
    "A white line is a row or a column without any black cells.\n",
    "\n",
    "Apaar has worked with letspaint for some time, so some of the cells (possibly zero or all) are currently black. He wants to know the maximum number of white lines after using the eraser exactly once. Help him find the answer to\n",
    "Input Format\n",
    "The first line contains two integers n and k (1≤k≤n≤2000) — the number of rows and columns, and the size of the eraser.\n",
    "\n",
    "The next n lines contain n characters each without spaces. The j-th character in the i-th line represents the cell at (i,j). Each character is given as either 'B' representing a black cell, or 'W' representing a white cell\n",
    "1 ≤ k ≤ n ≤ 2000\n",
    "BWBBB\n",
    "BWBBB\n",
    "BBBBB\n",
    "BBBBB\n",
    "WBBBW"
   ]
  },
  {
   "cell_type": "code",
   "execution_count": null,
   "metadata": {},
   "outputs": [],
   "source": [
    "n,k = map(int,input().split())\n",
    "a = []\n",
    "for _ in range(n):\n",
    "    s = input()\n",
    "    t = []\n",
    "    for i in s:\n",
    "        if i == \"W\":\n",
    "            t.append(1)\n",
    "        else:\n",
    "            t.append(0)\n",
    "    a.append(t)\n",
    "b = [[a[i][j] for j in range(n)] for i in range(n)]\n",
    "c = [[a[i][j] for j in range(n)] for i in range(n)]\n",
    "for i in range(n):\n",
    "    for j in range(1,n):\n",
    "        b[i][j] += b[i][j-1]\n",
    "    for i in range(1,n):\n",
    "        c[i][j] += c[i-1][j]\n",
    "ans = 0\n",
    "for i in range(n):\n",
    "    for j in range(n):\n",
    "        ct = 0\n",
    "        for t in range(i,i+k):\n",
    "            if t<=n-1 and j+k<=n-1:\n",
    "                sm = b[t][n-1]-(b[t][j+k]-b[t][j]+a[t][j])+k\n",
    "                if sm == k:\n",
    "                    ct += 1\n",
    "        for t in range(j,j+k):\n",
    "            if t<=n-1 and i+k<=n-1:\n",
    "                sm = ct[n-1][t]-(c[i+k][t]-c[i][t]+a[i][t])+k\n",
    "                if sm == n:\n",
    "                    ct += 1\n",
    "        ans = max(ans,ct)\n",
    "print(ans)"
   ]
  },
  {
   "cell_type": "code",
   "execution_count": null,
   "metadata": {},
   "outputs": [],
   "source": [
    "n,k=map(int,input().split())\n",
    "board=[]\n",
    "for _ in range(n):\n",
    "    r=input()\n",
    "    board.append(str(r))\n",
    "dp=[]\n",
    "ll=[0]*n\n",
    "dp1=[]\n",
    "dp2=[]\n",
    "for _ in range(n):\n",
    "    dp.append(list(ll))\n",
    "    dp1.append(list(ll))\n",
    "    dp2.append(list(ll))\n",
    "for i in range(n):\n",
    "    for j in range(n):\n",
    "        if board[i][j]=='W':\n",
    "            dp[i][j]=1\n",
    "            dp1[i][j]=1\n",
    "            dp2[i][j]=1\n",
    "for i in range(1,n):\n",
    "    for j in range(n):\n",
    "        dp1[i][j]+=dp1[i-1][j]\n",
    "for j in range(1,n):\n",
    "    for i in range(n):\n",
    "        dp2[i][j]+=dp2[i][j-1]\n",
    "gans=0\n",
    "for i in range(0,n,1):\n",
    "    for j in range(0,n,1):\n",
    "        ct=0\n",
    "        for t in range(j,j+k):\n",
    "            if t<=n-1 and i+k<=n-1:\n",
    "                if dp1[n-1][t]-(dp1[i+k][t]-dp1[i][t]+dp[i][t])+k>=n:\n",
    "                    ct+=1\n",
    "        for t in range(i,i+k):\n",
    "            if t<=n-1 and i+k<=n-1:\n",
    "                if dp2[t][n-1]-(dp2[t][j+k]-dp2[t][j]+dp[t][j])+k>=n:\n",
    "                    ct+=1\n",
    "        gans=max(ct,gans)\n",
    "print(gans)"
   ]
  },
  {
   "cell_type": "markdown",
   "metadata": {},
   "source": [
    "Given a set of \"n\" non-negative integers, and a value \"sum\", determine if there is a subset of the given set with sum equal to given sum.\n",
    "\n",
    "Input Format\n",
    "1st Line: n sum 2nd Line: a1 a2……an (Array Values)\n",
    "1<= n <= 5000 1<= sum <= 10^7 1<= Ai <=10^5"
   ]
  },
  {
   "cell_type": "code",
   "execution_count": null,
   "metadata": {},
   "outputs": [],
   "source": [
    "n,s = map(int,input().split())\n",
    "a = list(map(int,input().split()))\n"
   ]
  },
  {
   "cell_type": "markdown",
   "metadata": {},
   "source": [
    "Alice and Bob are planning to send encrypted messages to each other. Alice has decided to assign 'A' to code 1, 'B' to the code 2,…… 'Z' to code 26. Now he wonders given an encrypted message how many different decoding they can form."
   ]
  },
  {
   "cell_type": "code",
   "execution_count": null,
   "metadata": {},
   "outputs": [],
   "source": [
    "for _ in range(int(input())):\n",
    "    s = input()\n",
    "    dp = [0]*(len(s))\n",
    "    dp[0] = 1\n",
    "    for i in range(1,len(s)):\n",
    "        x = int(s[i-1]+s[i])\n",
    "        dp[i] = dp[i-1]\n",
    "        if x>=1 and x<=26 and i>=2:\n",
    "            dp[i]+= dp[i-2]\n",
    "        else:\n",
    "            dp[i] += 1\n",
    "    print(dp[-1],dp)"
   ]
  },
  {
   "cell_type": "markdown",
   "metadata": {},
   "source": [
    "Its Diwali time and everyone is busy decorating there homes using light bulbs.\n",
    "The light bulbs are arranged in a row. Little bob is bored of participating in contests so he decided to write 1 for every bulb which is on and 0 for every bulb which is off and creates an array of size equal to number of light bulbs. Since he is a bright kid he looks at his array and calculates the sum of all the adjacent pairwise products and wonders how many such combinations exist. More formally you are given an array of size n (consisting of 0 and 1 only) and k = a1a2 + a2a3 + a3a4 + … an-1an. You have to find out how many combinations of these light bulbs of size n (on and off) will give the sum of products equal to given value k. You have to calculate this value modulo 10^6+3.\n",
    "test cases <= 100 n <= 100 k <= 100"
   ]
  },
  {
   "cell_type": "code",
   "execution_count": 15,
   "metadata": {},
   "outputs": [
    {
     "name": "stdout",
     "output_type": "stream",
     "text": [
      "1\n",
      "66 23\n",
      "375215\n"
     ]
    }
   ],
   "source": [
    "mod = 10**6 + 3\n",
    "def f(n,k):\n",
    "    dp = [[[0,0] for _ in range(k+1)] for _ in range(n+1)]\n",
    "    dp[1][0][0] = 1\n",
    "    dp[1][1][1] = 1\n",
    "    for i in range(1,n+1):\n",
    "        for j in range(k+1):\n",
    "            dp[i][j][0] += dp[i-1][j][0]+dp[i-1][j][1]\n",
    "            dp[i][j][1] += dp[i-1][j][0] + dp[i-1][j-1][1]\n",
    "#         print(dp)\n",
    "    print( (dp[n][k][0]+dp[n][k][1])%mod )\n",
    "def g(i,sm,prev,n,dp):\n",
    "    if i == n-1:\n",
    "        if sm == 0:\n",
    "            return 1\n",
    "        return 0\n",
    "    st = str(i)+\"/\"+str(sm)+\"_\"+str(prev)\n",
    "#     if dp[i][sm][prev]!=-1:\n",
    "#         return dp[i][sm][prev]\n",
    "    if dp.get(st)!=None:\n",
    "        return dp[st]\n",
    "    if prev == 0:\n",
    "        ans = g(i+1,sm,1,n,dp)+g(i+1,sm,0,n,dp)\n",
    "    else:\n",
    "        ans = g(i+1,sm,0,n,dp)+g(i+1,sm-1,1,n,dp)\n",
    "#     dp[i][sm][prev] = ans%mod\n",
    "    dp[st] = ans%mod\n",
    "    return ans\n",
    "for _ in range(int(input())):\n",
    "    n,k = map(int,input().split())\n",
    "#     dp = [[[-1,-1] for _ in range(k+1)] for _ in range(n)]\n",
    "    dp = {}\n",
    "    ans =(g(0,k,0,n,dp)+g(0,k,1,n,dp))%mod\n",
    "    print(ans)"
   ]
  },
  {
   "cell_type": "markdown",
   "metadata": {},
   "source": [
    "You are given an array A and Q queries. Each query consists of 2 integers l and r. The answer to each query will be max(Ai + Ai+1 +….+ Aj,l<=i<=j<=r).\n",
    "\n",
    "Input Format\n",
    "First line contains an integer N, denoting the number of elements in the array A. Next line contains N integers denoting the elements of the array. Next line contains a single integer Q, denoting the number of queries. Next Q lines contain Q queries, consisting of 3 integers each, L R K."
   ]
  },
  {
   "cell_type": "code",
   "execution_count": null,
   "metadata": {},
   "outputs": [],
   "source": [
    "def kad(i,j,a):\n",
    "    ans = -float('inf')\n",
    "    cs = 0\n",
    "    for x in range(i,j+1):\n",
    "        cs = max(a[x],cs+a[x])\n",
    "        ans = max(ans,cs)\n",
    "    return ans\n",
    "n = int(input())\n",
    "a = list(map(int,input().split()))\n",
    "q = int(input())\n",
    "for _ in range(q):\n",
    "    x,y = map(int,input().split())\n",
    "    x-=1\n",
    "    y-=1\n",
    "    print(kad(x,y,a))\n"
   ]
  },
  {
   "cell_type": "markdown",
   "metadata": {},
   "source": [
    "Saurabh tried to solve the Big Famous Unsolvable A+B=C. Of course he did it , but he was wondering in how many ways is it possible to shuffle the bits of A and the bits of B such that their sum after shuffling is equal to C? Let's denote the integers obtained by shuffling the bits of A and B by As and Bs respectively; two ways (As1,Bs1) and (As2,Bs2) are considered distinct if As1≠As2 or Bs1≠Bs2.\n",
    "\n",
    "It is allowed to add any number (possibly zero) of leading zeroes, i.e. bits 0, to A and any number of leading zeroes to B before shuffling the bits.\n",
    "Input Format\n",
    "The first line of the input contains a single integer T denoting the number of test cases. The description of T test cases follows.\n",
    "The first and only line of each test case contains three space-separated integers A, B and C.\n",
    "Constraints\n",
    "1≤T≤1,000\n",
    "1≤A,B,C≤1e9\n",
    "A+B=C"
   ]
  },
  {
   "cell_type": "code",
   "execution_count": null,
   "metadata": {},
   "outputs": [],
   "source": [
    "def csb(n): \n",
    "    count = 0\n",
    "    while (n): \n",
    "        n &= (n-1)  \n",
    "        count+= 1\n",
    "    return count\n",
    "def f(a,b,c,x,y,z):\n",
    "    if a == 0 and b == 0:\n",
    "        if x+y == z:\n",
    "            return 1\n",
    "        return 0\n",
    "    for i in range(n):\n",
    "        \n",
    "for _ in range(int(input())):\n",
    "    a,b,c = map(int,input().split())\n",
    "    e = c\n",
    "    n = 0\n",
    "    while e:\n",
    "        n += 1\n",
    "        e = e>>1\n",
    "    print(f(csb(a),csb(b),n,0,0,c))"
   ]
  },
  {
   "cell_type": "code",
   "execution_count": null,
   "metadata": {},
   "outputs": [
    {
     "name": "stdout",
     "output_type": "stream",
     "text": [
      "1\n",
      "1000000010\n",
      "0001000100\n"
     ]
    }
   ],
   "source": [
    "# Maximum xor permutation\n",
    "def f(ca,cb,cc,i,n,dp):\n",
    "    if ca<0 or cb<0 or cc<0:\n",
    "        return -float('inf')\n",
    "    if i==n+1:\n",
    "        if ca==0 and cb==0 and cc==0:\n",
    "            return 0\n",
    "        return -float('inf')\n",
    "    st=str(ca)+\" \"+str(cb)+\" \"+str(cc)+\" \"+str(i)\n",
    "    if dp.get(st)!=None:\n",
    "        return dp[st]\n",
    "    #making curr bit 1\n",
    "    ans1 = (1<<i) + max(f(ca,cb-1,cc,i+1,n,dp),f(ca,cb,cc-1,i+1,n,dp),f(ca-1,cb,cc,i+1,n,dp),f(ca-1,cb-1,cc-1,i+1,n,dp))\n",
    "    ans2 = max(f(ca-1,cb-1,cc,i+1,n,dp),f(ca,cb-1,cc-1,i+1,n,dp),f(ca-1,cb,cc-1,i+1,n,dp),f(ca,cb,cc,i+1,n,dp))\n",
    "    dp[st] = max(ans1,ans2)\n",
    "    return dp[st]\n",
    "for _ in range(int(input())):\n",
    "    s1=input()\n",
    "    s2=input()\n",
    "    s3=input()\n",
    "    dp={}\n",
    "    st=f(s1.count('1'),s2.count('1'),s3.count('1'),0,len(s1),dp)\n",
    "    st=bin(st)[2:]\n",
    "    print(st)"
   ]
  },
  {
   "cell_type": "markdown",
   "metadata": {},
   "source": [
    "Little Vipul and his Queries\n",
    "Vipul has a set of red and blue balls arranged in a line, like this:\n",
    "Line 1: R\n",
    "Line 2: B R B\n",
    "Line 3: R B\n",
    "Now little Vipul has one question in mind. Given X Red balls and Y Blue balls , how many lines can hi reciprocate completely?\n",
    "Input Format\n",
    "First line of the input contains a single integer N. N denoting the number of rows in Vipul's arrangement of balls.\n",
    "Each of next N lines contains a string consisting of two types of characters: R and B where R denotes red colored balls and B denotes blue color balls.\n",
    "Next line contain a single integer Q, denoting the number of queries that Vipul wishes to find answers for.\n",
    "Each of the next Q line contains two space separated integers, X and Y denoting count of red and blue balls respectively.\n",
    "Constraints\n",
    "1 ≤ N ≤ 100 1 ≤ Q ≤ 10^4 0 ≤ X , Y ≤ 100 No single row can have more than 200 balls.\n",
    "Output Format\n",
    "For each query of type X Y, you need to print the maximum number of rows that can be mimicked by Vipul if he was to get X red balls and Y blue balls."
   ]
  },
  {
   "cell_type": "code",
   "execution_count": 11,
   "metadata": {},
   "outputs": [
    {
     "name": "stdout",
     "output_type": "stream",
     "text": [
      "3\n",
      "RRBB\n",
      "BB\n",
      "R\n",
      "1\n",
      "2 3\n",
      "2\n"
     ]
    }
   ],
   "source": [
    "def f(i,x,y,dp,a):\n",
    "    if i == len(a):\n",
    "        return 0\n",
    "    st = str(i)+\" \"+str(x)+\" \"+str(y)\n",
    "    if dp.get(st) != None:\n",
    "        return dp[st]\n",
    "    ans = -float('inf')\n",
    "    if x-a[i][0] >= 0 and y-a[i][1]>=0:\n",
    "        ans = 1+f(i+1,x-a[i][0],y-a[i][1],dp,a)\n",
    "    ans = max(f(i+1,x,y,dp,a),ans)\n",
    "    dp[st] = ans\n",
    "    return ans\n",
    "def ip():\n",
    "    l = []\n",
    "    for _ in range(int(input())):\n",
    "        x= input()\n",
    "        a,b=x.count('R'),x.count('B')\n",
    "        l.append((a,b))\n",
    "    for _ in range(int(input())):\n",
    "        x,y = map(int,input().split())\n",
    "        dp = {}\n",
    "        print(f(0,x,y,dp,l))\n",
    "ip()"
   ]
  },
  {
   "cell_type": "code",
   "execution_count": 3,
   "metadata": {},
   "outputs": [
    {
     "name": "stdout",
     "output_type": "stream",
     "text": [
      "1\n",
      "5 3 2 8\n",
      "YES\n"
     ]
    }
   ],
   "source": [
    "# A collecting coins Contest 1294\n",
    "def f(a,b,c,n):\n",
    "    y = (n+a+b+c)\n",
    "    if y%3 ==0:\n",
    "        y //= 3\n",
    "        if y-a>=0 and y-b>=0 and y-c>=0:\n",
    "            return \"YES\"\n",
    "    return \"NO\"\n",
    "for _ in range(int(input())):\n",
    "    a,b,c,n = map(int,input().split())\n",
    "    print(f(a,b,c,n))"
   ]
  },
  {
   "cell_type": "code",
   "execution_count": null,
   "metadata": {},
   "outputs": [],
   "source": [
    "# B Collecting packages Contest 1294\n",
    "for _ in range(int(input())):\n",
    "    n = int(input())\n",
    "    prsnts = {}\n",
    "    for _ in range(n):\n",
    "        x,y = map(int,input().split())\n",
    "        if prsnts.get(x) == None:\n",
    "            prsnts[x] = [y]\n",
    "        else:\n",
    "            prsnts[x].append(y)\n",
    "    ans = \"\"\n",
    "    f = True\n",
    "    x,y = 0,0\n",
    "    miny = -1\n",
    "    for i in sorted(prsnts.keys()):\n",
    "        ans += \"R\"*(i-x)\n",
    "        x = i\n",
    "        if miny > min(d[i]):\n",
    "            f = False\n",
    "            break\n",
    "        mx = max(d[i])\n",
    "        ans += \"U\"*(mx-y)\n",
    "        y = mx\n",
    "    if f:\n",
    "        print(\"YES\")\n",
    "        print(ans)\n",
    "    else:\n",
    "        print(\"NO\")"
   ]
  },
  {
   "cell_type": "code",
   "execution_count": 17,
   "metadata": {},
   "outputs": [
    {
     "name": "stdout",
     "output_type": "stream",
     "text": [
      "1\n",
      "2468\n",
      "NO\n"
     ]
    }
   ],
   "source": [
    "# C\t Product of Three Numbers Contest 1294\n",
    "def soe(n,arr):\n",
    "    ans = []\n",
    "    arr[0] = False\n",
    "    i = 4\n",
    "    while i < n + 1:\n",
    "            arr[i-1] = False\n",
    "            i += 2\n",
    "    i = 3\n",
    "    while i*i < n+1:\n",
    "            for k in range(i*i,n+1,2*i):\n",
    "                    arr[k-1] = False\n",
    "            i += 2\n",
    "    i = 1\n",
    "    while i < n:\n",
    "            if arr[i]:\n",
    "                    ans.append(i+1)\n",
    "            i += 1\n",
    "    return ans\n",
    "for _ in range(int(input())):\n",
    "    n=int(input())\n",
    "    arr=[True]*(n)\n",
    "    primes=soe(n,arr)\n",
    "    pf=[] \n",
    "    for i in primes:\n",
    "        if n%i==0:\n",
    "            pf.append(i)\n",
    "    if len(pf)>=3:\n",
    "        a=pf[0]\n",
    "        b=pf[1]\n",
    "        c=n//(a*b)\n",
    "        if((c<2) or (c==b) or (c==a)):\n",
    "            print(\"NO\")\n",
    "        else:\n",
    "            print(\"YES\")\n",
    "            print(a,b,c)\n",
    "    elif len(pf)==1:\n",
    "        a=pf[0]\n",
    "        b=a*a\n",
    "        c=n//(a*b)\n",
    "        if((c<2) or (c == b) or (c == a)):\n",
    "            print(\"NO\")\n",
    "        else:\n",
    "            print(\"YES\")\n",
    "            print(a,b,c)\n",
    "    else:\n",
    "        print(\"NO\")"
   ]
  },
  {
   "cell_type": "code",
   "execution_count": 34,
   "metadata": {},
   "outputs": [
    {
     "name": "stdout",
     "output_type": "stream",
     "text": [
      "1\n",
      "6\n",
      "1 2 1 1 3 1\n",
      "-7 {1: 1} {1: 3, 2: 1, 3: 1} 0\n",
      "-3 {1: 1, 2: 1} {1: 3, 2: 0, 3: 1} 1\n",
      "-1 {1: 2, 2: 1} {1: 2, 2: 0, 3: 1} 3\n",
      "1 {1: 3, 2: 1} {1: 1, 2: 0, 3: 1} 6\n",
      "7 {1: 3, 2: 1, 3: 1} {1: 1, 2: 0, 3: 0} 6\n",
      "9 {1: 4, 2: 1, 3: 1} {1: 0, 2: 0, 3: 0} 6\n",
      "6\n"
     ]
    }
   ],
   "source": [
    "# Chefina and Sums Problem Code: CFINASUM\n",
    "def f(a,n):\n",
    "    r,l = {},{}\n",
    "    for i in a:\n",
    "        if r.get(i) == None:\n",
    "            r[i] = 1\n",
    "        else:\n",
    "            r[i] += 1\n",
    "    pre = [a[i] for i in range(n)]\n",
    "    for i in range(1,n):\n",
    "        pre[i] += pre[i-1]\n",
    "    ans = 0\n",
    "#     print(pre)\n",
    "    for i in range(n):\n",
    "        r[a[i]] -= 1\n",
    "        if l.get(a[i]) == None:\n",
    "            l[a[i]] = 1\n",
    "        else:\n",
    "            l[a[i]] += 1\n",
    "        x = 2*pre[i] - pre[-1]\n",
    "        if x==0:\n",
    "            ans += 1\n",
    "        if x > 0:\n",
    "            if l.get(x) != None:\n",
    "                ans += l[x]\n",
    "        else:\n",
    "            if r.get(abs(x)) != None:\n",
    "                ans += r[abs(x)]\n",
    "#         print(x,l,r,ans)\n",
    "    return ans\n",
    "for _ in range(int(input())):\n",
    "    n = int(input())\n",
    "    a = list(map(int,input().split()))\n",
    "    print(f(a,n))"
   ]
  },
  {
   "cell_type": "code",
   "execution_count": 16,
   "metadata": {},
   "outputs": [
    {
     "name": "stdout",
     "output_type": "stream",
     "text": [
      "2\n",
      "2\n",
      "8\n",
      "3\n",
      "19\n"
     ]
    }
   ],
   "source": [
    "\"\"\"Count of strings that can be formed using a, b and c under given constraints\n",
    "Given a length n, count the number of strings of length n that can be made using ‘a’, ‘b’ and ‘c’ with at-most one ‘b’ and two ‘c’s allowed.\n",
    "1 <= n < 5*10^5\n",
    "\"\"\"\n",
    "def f(i,n,b,c,dp):\n",
    "    if i == n:\n",
    "        return 1\n",
    "    st = str(i)+\" \"+str(b)+\" \"+str(c)\n",
    "    if dp.get(st) != None:\n",
    "        return dp[st]\n",
    "    ans = f(i+1,n,b,c,dp)\n",
    "    if b == 1:\n",
    "        ans += f(i+1,n,0,c,dp)\n",
    "    if c>0:\n",
    "        ans += f(i+1,n,b,c-1,dp)\n",
    "    dp[st] = ans\n",
    "    return ans\n",
    "for _ in range(int(input())):\n",
    "    n = int(input())\n",
    "    print(f(0,n,1,2,{}))"
   ]
  },
  {
   "cell_type": "code",
   "execution_count": 20,
   "metadata": {},
   "outputs": [
    {
     "name": "stdout",
     "output_type": "stream",
     "text": [
      "8\n",
      "10 1 2 -13 0 7 -18 2 \n",
      "20\n"
     ]
    }
   ],
   "source": [
    "\"\"\"Maximum power\n",
    "Alice is fighting with an alien to save this planet. As alien is very powerful he needs some power to overcome him. Power points are represented in the form of an array containing both positive and negative powers but the problem is he can get power equal to the product of the subarray he selects. Help him to decide maximum power he can get.\n",
    "1<=n<=100000 Product of all numbers will fit in long long int.\n",
    "in this as no. can be negative so also store the minimum as iterating forward we may find a number that when multiplied by the minimum may be greater than the current max\n",
    "\"\"\"\n",
    "def f(a,n):\n",
    "    cp = a[0]\n",
    "    cp1 = a[0]\n",
    "    ans = a[0]\n",
    "    for i in a[1:]:\n",
    "        t = (i,cp*i,cp1*i)\n",
    "        mx = max(t)\n",
    "        mn = min(t)\n",
    "        ans = max(ans,mx)\n",
    "        cp = mx\n",
    "        cp1 = mn\n",
    "    return ans\n",
    "n = int(input())\n",
    "a = list(map(int,input().split()))\n",
    "print(f(a,n))"
   ]
  },
  {
   "cell_type": "code",
   "execution_count": null,
   "metadata": {},
   "outputs": [],
   "source": [
    "\"\"\"Magical String 1\n",
    "Secret ravens from Winterfell started flying as the great war was coming. The Starks wrote the message using only 26 lowercase letters ('a'- 'z') on pieces of paper and attached them to ravens. However the messages were intercepted in between by Lannisters who killed all the ravens. Each letter from a to z had a certain number associated with it. Now the Lannisters wanted to cut the string of message in such a way that each letter shouldn't appear in the string of length greater than the number associated with it. For example if the string is \"aabca\" and numbers associated with a b and c are 1 2 3 then 'a' cannot appear in a string of length more than 1 similarly 'b' in 2 and 'c' in 3. One possible way to cut this string is a|a|b|c|a or a|a|bc|a. Now the Lannisters asked you a question since they were weak at math. :p What are the number of ways to do so?? (Modulo 10^9 + 7 since answer can be large)\n",
    "Input Format\n",
    "First line consists of number n second line consists of string of length n third line consists of 26 integers denoting number associated with each character where first number corresponds to a and so on.\n",
    "Constraints\n",
    "1 <= n <= 1000 1 <= a1,a2…a26 <= 1000 (for 26 lowercase numbers)\n",
    "\"\"\"\n",
    "def f(i,n,s,chrs):\n",
    "    if i == n:\n",
    "        return 1\n",
    "    if chrs[ord(s[i]) - ord('a')]\n",
    "n = int(input())\n",
    "s = input()\n",
    "chrs = list(map(int,input().split()))\n",
    "print(f())"
   ]
  },
  {
   "cell_type": "code",
   "execution_count": 37,
   "metadata": {},
   "outputs": [
    {
     "name": "stdout",
     "output_type": "stream",
     "text": [
      "5\n",
      "aabab\n",
      "2 3 1 1 1 1 1 1 1 1 1 1 1 1 1 1 1 1 1 1 1 1 1 1 1 1\n",
      "9\n"
     ]
    }
   ],
   "source": [
    "code = []\n",
    "mod = 10**9+7\n",
    "def getcode(ch):\n",
    "    return code[ord(ch)-ord('a')]\n",
    "def f(s,i,lsf,mxlp,dp):\n",
    "    if i==len(s)-1:\n",
    "        return 1\n",
    "    st = str(i)+\" \"+str(lsf)+\" \"+str(mxlp)\n",
    "    if dp.get(st) != None:\n",
    "        return dp[st]\n",
    "    cc=getcode(s[i])\n",
    "    ans=f(s,i+1,0,n-i,dp)\n",
    "    if cc > lsf + 1 and lsf + 1 <= mxlp:\n",
    "        ans+=f(s,i+1,lsf+1,min(mxlp,cc),dp)\n",
    "    dp[st] = ans%mod\n",
    "    return ans\n",
    "n=int(input())\n",
    "s=input()\n",
    "code=list(map(int,input().split()))\n",
    "print(f(s,0,0,n,{}))"
   ]
  },
  {
   "cell_type": "code",
   "execution_count": 3,
   "metadata": {},
   "outputs": [
    {
     "name": "stdout",
     "output_type": "stream",
     "text": [
      "1\n",
      "3\n",
      "1 50 50\n",
      "50 50 50\n",
      "1 50 50\n",
      "52\n"
     ]
    }
   ],
   "source": [
    "\"\"\"Job for Bounties\"\"\"\n",
    "s = input()\n",
    "n = len(s)\n",
    "st = 0\n",
    "ans= 0\n",
    "ct = 0\n",
    "for i in range(n):\n",
    "    if s[i] == \"(\":\n",
    "        st += 1\n",
    "    else:\n",
    "        if st >= 1:\n",
    "            st -= 1\n",
    "            ct += 1"
   ]
  },
  {
   "cell_type": "code",
   "execution_count": null,
   "metadata": {},
   "outputs": [],
   "source": [
    "\"\"\"Neighbouring Enemy\n",
    "Given an array A, we can pick a number and delete it, then all the numbers which are 1 less or 1 more also get deleted. The number that we picked is added to the overall score. We need to maximise the score.\n",
    "Input Format--The first line contains integer n that shows how many numbers are there in the sequence.The second line contains n integers a1, a2, …, an.\n",
    "Constraints:==1 ≤ n ≤ 10^5 1 ≤ a[i] ≤ 10^5\n",
    "Output Format--Print a single integer — the maximum number of points that can be earned.\n",
    "\"\"\"\n",
    "import sys\n",
    "sys.setrecursionlimit(10**9)\n",
    "def f(i,d,dp):\n",
    "    if i < 0:\n",
    "        return 0\n",
    "    if dp.get(i) != None:\n",
    "        return dp[i]\n",
    "    ans = f(i-1,d,dp)\n",
    "    if d.get(i) != None:\n",
    "        ans = max(ans,i*d[i]+f(i-2,d,dp))\n",
    "    dp[i] = ans\n",
    "    return ans\n",
    "n= int(input())\n",
    "a=list(map(int,input().split()))\n",
    "d = {}\n",
    "for i in a:\n",
    "    if d.get(i) == None:\n",
    "        d[i]=1\n",
    "    else:\n",
    "        d[i]+=1\n",
    "print(f(max(a),d,{}))"
   ]
  },
  {
   "cell_type": "code",
   "execution_count": 17,
   "metadata": {},
   "outputs": [
    {
     "name": "stdout",
     "output_type": "stream",
     "text": [
      "6\n",
      "1 3 7 9 8 7\n",
      "[3, 2, 1, 6, 15, 7]\n"
     ]
    }
   ],
   "source": [
    "\"\"\"XOR on Arrays--Given a set of n integers, find the sum of xor of all subarray.\n",
    "n<=10^5\n",
    "Elements <=10^9\n",
    "\"\"\"\n",
    "n = int(input())\n",
    "a = list(map(int,input().split()))\n",
    "pre = [a[i] for i in range(n)]\n",
    "for i in range(1,n):\n",
    "    pre[i] ^= pre[i-1]\n",
    "# sm = sum(pre)\n",
    "sm = sum(a)\n",
    "# end = pre[n-1]\n",
    "# for i in range(n-1):\n",
    "#     sm += end^pre[i]\n",
    "# sm -= a[n-1]\n",
    "for i in range(n):\n",
    "    for j in range(n-1,i,-1):\n",
    "        sm += pre[j]^pre[i]^a[i]\n",
    "print(sm)"
   ]
  },
  {
   "cell_type": "code",
   "execution_count": 43,
   "metadata": {},
   "outputs": [
    {
     "name": "stdout",
     "output_type": "stream",
     "text": [
      "5\n",
      "1 2 3 4 5\n",
      "71\n"
     ]
    }
   ],
   "source": [
    "\"\"\"sum of or of all subarray\"\"\"\n",
    "import math\n",
    "n=int(input())\n",
    "a=list(map(int,input().split()))\n",
    "mxbit = int(math.log(max(a),2))+1\n",
    "subtot = (n*(n+1))//2\n",
    "ans = 0\n",
    "for i in range(mxbit+1):\n",
    "    v = []\n",
    "    for j in range(len(a)):\n",
    "        if(a[j]&(1<<i) == 0):\n",
    "            v.append(j)\n",
    "    tot_ct = 0\n",
    "    ct = 1\n",
    "    for j in range(1,len(v)):\n",
    "        if(v[j]-v[j-1] == 1):\n",
    "            ct += 1\n",
    "        else:\n",
    "            tot_ct += ct*(ct+1)//2\n",
    "            ct = 1\n",
    "    tot_ct += ct*(ct+1)//2\n",
    "    if len(v) == 0:\n",
    "        tot_ct = 0\n",
    "    ans += (subtot - tot_ct)*(2**i)\n",
    "print(ans)"
   ]
  },
  {
   "cell_type": "code",
   "execution_count": 51,
   "metadata": {},
   "outputs": [
    {
     "name": "stdout",
     "output_type": "stream",
     "text": [
      "439834 22398\n",
      "-1\n"
     ]
    }
   ],
   "source": [
    "\"\"\"maximum xor from l to r\"\"\"\n",
    "l,r = map(int,input().split())\n",
    "x = l^r\n",
    "ct = 0\n",
    "while x:\n",
    "    ct += 1\n",
    "    x >>= 1\n",
    "ans = 1<<ct\n",
    "print(ans - 1)"
   ]
  },
  {
   "cell_type": "code",
   "execution_count": 27,
   "metadata": {},
   "outputs": [
    {
     "name": "stdout",
     "output_type": "stream",
     "text": [
      "6 5\n",
      "5 4 3 2 1 -1\n",
      "5\n"
     ]
    }
   ],
   "source": [
    "\"\"\"Max sum k partition\"\"\"\n",
    "from math import ceil\n",
    "n,k = map(int,input().split())\n",
    "a= list(map(int,input().split()))\n",
    "v = ceil(n/k)\n",
    "vals = list(range(0,n,k))\n",
    "vals.append(n)\n",
    "dp = [0]*(n)\n",
    "c_max_idx,c_max_1,c_max_2 = -1,-float('inf'),-float('inf')\n",
    "for i in range(vals[0],vals[1]):\n",
    "    if a[i]>c_max_1:\n",
    "        c_max_2,c_max_1,c_max_idx = c_max_1,a[i],i\n",
    "    elif a[i]>c_max_2:\n",
    "        c_max_2 = a[i]\n",
    "    dp[i] = a[i]\n",
    "for i in range(1,v):\n",
    "    prev_max_idx,prev_max_1,prev_max_2=c_max_idx,c_max_1,c_max_2\n",
    "    c_max_idx,c_max_1,c_max_2 = -1,-float('inf'),-float('inf')\n",
    "    for j in range(vals[i],vals[i+1]):\n",
    "        if j-prev_max_idx != k:\n",
    "            dp[j] = max(a[j]+prev_max_1,prev_max_1)\n",
    "        else:\n",
    "            dp[j] = max(a[j]+prev_max_2,prev_max_2)\n",
    "        if dp[j]>c_max_1:\n",
    "            c_max_2,c_max_1,c_max_idx = c_max_1,a[j],j\n",
    "        elif dp[j]>c_max_2:\n",
    "            c_max_2 = a[j]\n",
    "print(max(dp))"
   ]
  },
  {
   "cell_type": "code",
   "execution_count": 37,
   "metadata": {},
   "outputs": [
    {
     "name": "stdout",
     "output_type": "stream",
     "text": [
      "333\n",
      "1\n",
      "3\n",
      "51.0\n"
     ]
    }
   ],
   "source": [
    "\"\"\"Match Them--Given a string X formed out of single digit numbers from 0−9 , you are given a set of digits S and you need to count total substrings of string X that contains all the digits in the set S.\n",
    "\"\"\"\n",
    "s = input()\n",
    "n = int(input())\n",
    "st = set()\n",
    "mask = 0\n",
    "fin = 0\n",
    "for _ in range(n):\n",
    "    c = input()\n",
    "    st.add(c)\n",
    "    fin |= 1<<(ord(c)-ord('0'))\n",
    "pre = []\n",
    "for i in s:\n",
    "    if i in st:\n",
    "        mask |= (1<<(ord(i)-ord('0')))\n",
    "    pre.append(mask)"
   ]
  },
  {
   "cell_type": "code",
   "execution_count": 3,
   "metadata": {},
   "outputs": [
    {
     "name": "stdout",
     "output_type": "stream",
     "text": [
      "3\n",
      "1 2 3 4\n",
      "1\n"
     ]
    }
   ],
   "source": [
    "\"\"\"LARGEST SUBSET--Given an array A1, A2 . . . AN what is the size of the largest subset of the array such that the each pair of elements in the subset is coprime.\n",
    "\"\"\"\n",
    "from math import gcd\n",
    "def g(a):\n",
    "    for i in range(len(a)):\n",
    "        for j in range(len(a)):\n",
    "                if gcd(a[i],a[j]) != 1:\n",
    "                    return False\n",
    "    return True\n",
    "n = int(input())\n",
    "a = list(map(int,input().split()))\n",
    "f = list(set(a))\n",
    "m = len(f)\n",
    "ans = 1\n",
    "for i in range(1,2**m):\n",
    "    c = i\n",
    "    ct = 0\n",
    "    t = []\n",
    "    while c:\n",
    "        if c&1:\n",
    "            t.append(f[ct])\n",
    "        c>>=1\n",
    "        ct+=1\n",
    "    if(g(t)):\n",
    "        ans = max(ans,len(t))\n",
    "print(ans)"
   ]
  },
  {
   "cell_type": "code",
   "execution_count": 26,
   "metadata": {
    "scrolled": true
   },
   "outputs": [
    {
     "name": "stdout",
     "output_type": "stream",
     "text": [
      "5\n",
      "41 47 34 40 29\n",
      "1\n"
     ]
    }
   ],
   "source": [
    "\"\"\"Perfect Pair --Find the number of pairs (a,b) in given set of n integers such that (a&b)=0.\"\"\"\n",
    "n = int(input())\n",
    "a=list(map(int,input().split()))\n",
    "ct = 0\n",
    "for i in range(n):\n",
    "    for j in range(n):\n",
    "        if a[i]&a[j] == 0 and j!=i:\n",
    "            ct += 1\n",
    "print(ct)"
   ]
  },
  {
   "cell_type": "code",
   "execution_count": 9,
   "metadata": {},
   "outputs": [
    {
     "name": "stdout",
     "output_type": "stream",
     "text": [
      "4\n",
      "1 1 1 1\n",
      "15\n"
     ]
    }
   ],
   "source": [
    "\"\"\"Perfect Subset--Given a array of size N , find the number of subsets such that product of all its elements is a perfect square. Since, answer could be very large , output it modulo (10^9+7).\"\"\"\n",
    "n = int(input())\n",
    "a = list(map(int,input().split()))\n",
    "ans = 0\n",
    "mod = 10**9+7\n",
    "for i in range(1,(1<<n)):\n",
    "    t = i\n",
    "    ct = 0\n",
    "    p = 1\n",
    "    while t:\n",
    "        if t&1:\n",
    "            p *= a[ct]\n",
    "        ct += 1\n",
    "        t >>= 1\n",
    "    c = (p**0.5)\n",
    "    if c == int(c):\n",
    "        ans += 1\n",
    "print(ans%mod)"
   ]
  },
  {
   "cell_type": "code",
   "execution_count": 7,
   "metadata": {},
   "outputs": [
    {
     "name": "stdout",
     "output_type": "stream",
     "text": [
      "5\n",
      "21\n",
      "22\n",
      "23\n",
      "24\n",
      "25\n",
      "10.0\n"
     ]
    }
   ],
   "source": [
    "\"\"\"Prime Triplets--Given an array A of n integers , find number of triplets (i,j,k) where i<j<k such that there is atleast one prime digit which is common to each number.\"\"\"\n",
    "from math import factorial as fact\n",
    "n = int(input())\n",
    "a = [set(map(int,list(input()))) for _ in range(n)]\n",
    "# print(a)\n",
    "d = [0,0,0,0]\n",
    "for i in a:\n",
    "    if 2 in i:\n",
    "        d[0] += 1\n",
    "    if 3 in i:\n",
    "        d[1] += 1\n",
    "    if 5 in i:\n",
    "        d[2]+=1\n",
    "    if 7 in i:\n",
    "        d[3]+=1\n",
    "ans = 0\n",
    "# print(d)\n",
    "for i in d:\n",
    "    if i >= 3:\n",
    "        ans += fact(i)/(fact(3)*fact(i-3))\n",
    "print(int(ans))"
   ]
  },
  {
   "cell_type": "code",
   "execution_count": 6,
   "metadata": {},
   "outputs": [
    {
     "data": {
      "text/plain": [
       "1.0"
      ]
     },
     "execution_count": 6,
     "metadata": {},
     "output_type": "execute_result"
    }
   ],
   "source": [
    "\"\"\"XOR Matrix--You are given a matrix A of size nxm. Find any suitable integer sequence C of size n such that A[1][c[1]]^A[2][c[2]]^….^A[n][c[n]] is greater than 0. Output Format : IF there is no solution , just print “NIE” , otherwise first print “TAK” and then print configuration.\"\"\"\n",
    "\n",
    "n,m = map(int,input().split())\n",
    "a = []\n",
    "for _ in range(n):\n",
    "    a.append(list(map(int,input().split())))\n",
    "print(f())"
   ]
  }
 ],
 "metadata": {
  "kernelspec": {
   "display_name": "Python 3",
   "language": "python",
   "name": "python3"
  },
  "language_info": {
   "codemirror_mode": {
    "name": "ipython",
    "version": 3
   },
   "file_extension": ".py",
   "mimetype": "text/x-python",
   "name": "python",
   "nbconvert_exporter": "python",
   "pygments_lexer": "ipython3",
   "version": "3.7.3"
  }
 },
 "nbformat": 4,
 "nbformat_minor": 2
}
